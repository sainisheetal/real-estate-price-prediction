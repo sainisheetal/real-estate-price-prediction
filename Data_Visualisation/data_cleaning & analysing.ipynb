{
 "cells": [
  {
   "attachments": {},
   "cell_type": "markdown",
   "metadata": {},
   "source": [
    "1.Data Analysis:"
   ]
  },
  {
   "cell_type": "code",
   "execution_count": 17,
   "metadata": {},
   "outputs": [],
   "source": [
    "import numpy as np\n",
    "import pandas as pd\n",
    "import seaborn as sns \n",
    "import matplotlib.pyplot as plt\n",
    "from skimpy import clean_columns\n",
    "\n"
   ]
  },
  {
   "cell_type": "code",
   "execution_count": 18,
   "metadata": {},
   "outputs": [
    {
     "data": {
      "text/html": [
       "<div>\n",
       "<style scoped>\n",
       "    .dataframe tbody tr th:only-of-type {\n",
       "        vertical-align: middle;\n",
       "    }\n",
       "\n",
       "    .dataframe tbody tr th {\n",
       "        vertical-align: top;\n",
       "    }\n",
       "\n",
       "    .dataframe thead th {\n",
       "        text-align: right;\n",
       "    }\n",
       "</style>\n",
       "<table border=\"1\" class=\"dataframe\">\n",
       "  <thead>\n",
       "    <tr style=\"text-align: right;\">\n",
       "      <th></th>\n",
       "      <th>ID</th>\n",
       "      <th>locality</th>\n",
       "      <th>Monthly rental price</th>\n",
       "      <th>Double glazing</th>\n",
       "      <th>zipcode</th>\n",
       "      <th>Building condition</th>\n",
       "      <th>Price</th>\n",
       "      <th>Kitchen type</th>\n",
       "      <th>Living area</th>\n",
       "      <th>Furnished</th>\n",
       "      <th>Surface of the plot</th>\n",
       "      <th>Number of frontages</th>\n",
       "      <th>Swimming pool</th>\n",
       "      <th>Bedrooms</th>\n",
       "      <th>Garden</th>\n",
       "      <th>Garden surface</th>\n",
       "      <th>Terrace</th>\n",
       "      <th>Terrace surface</th>\n",
       "      <th>Type of property</th>\n",
       "    </tr>\n",
       "  </thead>\n",
       "  <tbody>\n",
       "    <tr>\n",
       "      <th>0</th>\n",
       "      <td>10333935</td>\n",
       "      <td>brugge</td>\n",
       "      <td>€ 795 795 €</td>\n",
       "      <td>Yes</td>\n",
       "      <td>8200</td>\n",
       "      <td>As new</td>\n",
       "      <td>0</td>\n",
       "      <td>USA hyper equipped</td>\n",
       "      <td>81 m² square meters</td>\n",
       "      <td>No</td>\n",
       "      <td>0</td>\n",
       "      <td>2</td>\n",
       "      <td>False</td>\n",
       "      <td>2</td>\n",
       "      <td>None</td>\n",
       "      <td>0</td>\n",
       "      <td>Yes</td>\n",
       "      <td>8 m² square meters</td>\n",
       "      <td>Apartment</td>\n",
       "    </tr>\n",
       "    <tr>\n",
       "      <th>1</th>\n",
       "      <td>10333926</td>\n",
       "      <td>woluwe-saint-lambert</td>\n",
       "      <td>€ 970 970 €</td>\n",
       "      <td>Yes</td>\n",
       "      <td>1200</td>\n",
       "      <td>Just renovated</td>\n",
       "      <td>0</td>\n",
       "      <td>USA installed</td>\n",
       "      <td>65 m² square meters</td>\n",
       "      <td>Yes</td>\n",
       "      <td>0</td>\n",
       "      <td>2</td>\n",
       "      <td>False</td>\n",
       "      <td>1</td>\n",
       "      <td>None</td>\n",
       "      <td>0</td>\n",
       "      <td>Yes</td>\n",
       "      <td>8 m² square meters</td>\n",
       "      <td>Apartment</td>\n",
       "    </tr>\n",
       "  </tbody>\n",
       "</table>\n",
       "</div>"
      ],
      "text/plain": [
       "         ID              locality Monthly rental price Double glazing  \\\n",
       "0  10333935                brugge          € 795 795 €            Yes   \n",
       "1  10333926  woluwe-saint-lambert          € 970 970 €            Yes   \n",
       "\n",
       "   zipcode Building condition  Price        Kitchen type          Living area  \\\n",
       "0     8200             As new      0  USA hyper equipped  81 m² square meters   \n",
       "1     1200     Just renovated      0       USA installed  65 m² square meters   \n",
       "\n",
       "  Furnished Surface of the plot  Number of frontages  Swimming pool  Bedrooms  \\\n",
       "0        No                   0                    2          False         2   \n",
       "1       Yes                   0                    2          False         1   \n",
       "\n",
       "  Garden  Garden surface Terrace     Terrace surface Type of property  \n",
       "0   None               0     Yes  8 m² square meters        Apartment  \n",
       "1   None               0     Yes  8 m² square meters        Apartment  "
      ]
     },
     "execution_count": 18,
     "metadata": {},
     "output_type": "execute_result"
    }
   ],
   "source": [
    "df1 = pd.read_csv(\"immo_rent_test.csv\")\n",
    "df1.head(2)\n"
   ]
  },
  {
   "cell_type": "code",
   "execution_count": 19,
   "metadata": {},
   "outputs": [
    {
     "ename": "ValueError",
     "evalue": "Unable to parse string \"€ 795 795 €\" at position 0",
     "output_type": "error",
     "traceback": [
      "\u001b[1;31m---------------------------------------------------------------------------\u001b[0m",
      "\u001b[1;31mValueError\u001b[0m                                Traceback (most recent call last)",
      "File \u001b[1;32mc:\\Users\\sheet\\AppData\\Local\\Programs\\Python\\Python310\\lib\\site-packages\\pandas\\_libs\\lib.pyx:2363\u001b[0m, in \u001b[0;36mpandas._libs.lib.maybe_convert_numeric\u001b[1;34m()\u001b[0m\n",
      "\u001b[1;31mValueError\u001b[0m: Unable to parse string \"€ 795 795 €\"",
      "\nDuring handling of the above exception, another exception occurred:\n",
      "\u001b[1;31mValueError\u001b[0m                                Traceback (most recent call last)",
      "\u001b[1;32md:\\Becode_Projects\\real-estate-price-prediction\\Data_Visualisation\\data_cleaning & analysing.ipynb Cell 4\u001b[0m in \u001b[0;36m<cell line: 3>\u001b[1;34m()\u001b[0m\n\u001b[0;32m      <a href='vscode-notebook-cell:/d%3A/Becode_Projects/real-estate-price-prediction/Data_Visualisation/data_cleaning%20%26%20analysing.ipynb#W3sZmlsZQ%3D%3D?line=0'>1</a>\u001b[0m \u001b[39m# No duplicates\u001b[39;00m\n\u001b[0;32m      <a href='vscode-notebook-cell:/d%3A/Becode_Projects/real-estate-price-prediction/Data_Visualisation/data_cleaning%20%26%20analysing.ipynb#W3sZmlsZQ%3D%3D?line=1'>2</a>\u001b[0m df1\u001b[39m.\u001b[39mdrop_duplicates()\n\u001b[1;32m----> <a href='vscode-notebook-cell:/d%3A/Becode_Projects/real-estate-price-prediction/Data_Visualisation/data_cleaning%20%26%20analysing.ipynb#W3sZmlsZQ%3D%3D?line=2'>3</a>\u001b[0m df1[\u001b[39m'\u001b[39m\u001b[39mMonthly rental price\u001b[39m\u001b[39m'\u001b[39m] \u001b[39m=\u001b[39m pd\u001b[39m.\u001b[39;49mto_numeric(df1[\u001b[39m'\u001b[39;49m\u001b[39mMonthly rental price\u001b[39;49m\u001b[39m'\u001b[39;49m])\n\u001b[0;32m      <a href='vscode-notebook-cell:/d%3A/Becode_Projects/real-estate-price-prediction/Data_Visualisation/data_cleaning%20%26%20analysing.ipynb#W3sZmlsZQ%3D%3D?line=3'>4</a>\u001b[0m \u001b[39m#detleted 'square meters' from Living area, Surface of the plot, Garden surface. Terrace surface.\u001b[39;00m\n\u001b[0;32m      <a href='vscode-notebook-cell:/d%3A/Becode_Projects/real-estate-price-prediction/Data_Visualisation/data_cleaning%20%26%20analysing.ipynb#W3sZmlsZQ%3D%3D?line=4'>5</a>\u001b[0m \u001b[39m#df1['Living area'] = df1['Living area'].str.replace('m² square meters', '')\u001b[39;00m\n\u001b[0;32m      <a href='vscode-notebook-cell:/d%3A/Becode_Projects/real-estate-price-prediction/Data_Visualisation/data_cleaning%20%26%20analysing.ipynb#W3sZmlsZQ%3D%3D?line=5'>6</a>\u001b[0m \u001b[39m#df1['Surface of the plot'] = df1['Surface of the plot'].str.replace('m² square meters', '')\u001b[39;00m\n\u001b[0;32m      <a href='vscode-notebook-cell:/d%3A/Becode_Projects/real-estate-price-prediction/Data_Visualisation/data_cleaning%20%26%20analysing.ipynb#W3sZmlsZQ%3D%3D?line=6'>7</a>\u001b[0m \u001b[39m#df1['Garden surface'] = df1['Garden surface'].str.replace('m² square meters', '')\u001b[39;00m\n\u001b[0;32m      <a href='vscode-notebook-cell:/d%3A/Becode_Projects/real-estate-price-prediction/Data_Visualisation/data_cleaning%20%26%20analysing.ipynb#W3sZmlsZQ%3D%3D?line=7'>8</a>\u001b[0m df1[\u001b[39m'\u001b[39m\u001b[39mTerrace surface\u001b[39m\u001b[39m'\u001b[39m] \u001b[39m=\u001b[39m df1[\u001b[39m'\u001b[39m\u001b[39mTerrace surface\u001b[39m\u001b[39m'\u001b[39m]\u001b[39m.\u001b[39mstr\u001b[39m.\u001b[39mreplace(\u001b[39m'\u001b[39m\u001b[39mm² square meters\u001b[39m\u001b[39m'\u001b[39m, \u001b[39m'\u001b[39m\u001b[39m'\u001b[39m)\n",
      "File \u001b[1;32mc:\\Users\\sheet\\AppData\\Local\\Programs\\Python\\Python310\\lib\\site-packages\\pandas\\core\\tools\\numeric.py:185\u001b[0m, in \u001b[0;36mto_numeric\u001b[1;34m(arg, errors, downcast)\u001b[0m\n\u001b[0;32m    183\u001b[0m coerce_numeric \u001b[39m=\u001b[39m errors \u001b[39mnot\u001b[39;00m \u001b[39min\u001b[39;00m (\u001b[39m\"\u001b[39m\u001b[39mignore\u001b[39m\u001b[39m\"\u001b[39m, \u001b[39m\"\u001b[39m\u001b[39mraise\u001b[39m\u001b[39m\"\u001b[39m)\n\u001b[0;32m    184\u001b[0m \u001b[39mtry\u001b[39;00m:\n\u001b[1;32m--> 185\u001b[0m     values, _ \u001b[39m=\u001b[39m lib\u001b[39m.\u001b[39;49mmaybe_convert_numeric(\n\u001b[0;32m    186\u001b[0m         values, \u001b[39mset\u001b[39;49m(), coerce_numeric\u001b[39m=\u001b[39;49mcoerce_numeric\n\u001b[0;32m    187\u001b[0m     )\n\u001b[0;32m    188\u001b[0m \u001b[39mexcept\u001b[39;00m (\u001b[39mValueError\u001b[39;00m, \u001b[39mTypeError\u001b[39;00m):\n\u001b[0;32m    189\u001b[0m     \u001b[39mif\u001b[39;00m errors \u001b[39m==\u001b[39m \u001b[39m\"\u001b[39m\u001b[39mraise\u001b[39m\u001b[39m\"\u001b[39m:\n",
      "File \u001b[1;32mc:\\Users\\sheet\\AppData\\Local\\Programs\\Python\\Python310\\lib\\site-packages\\pandas\\_libs\\lib.pyx:2405\u001b[0m, in \u001b[0;36mpandas._libs.lib.maybe_convert_numeric\u001b[1;34m()\u001b[0m\n",
      "\u001b[1;31mValueError\u001b[0m: Unable to parse string \"€ 795 795 €\" at position 0"
     ]
    }
   ],
   "source": [
    "# No duplicates\n",
    "df1.drop_duplicates()\n",
    "df1['Monthly rental price'] = pd.to_numeric(df1['Monthly rental price'])\n",
    "#detleted 'square meters' from Living area, Surface of the plot, Garden surface. Terrace surface.\n",
    "#df1['Living area'] = df1['Living area'].str.replace('m² square meters', '')\n",
    "#df1['Surface of the plot'] = df1['Surface of the plot'].str.replace('m² square meters', '')\n",
    "#df1['Garden surface'] = df1['Garden surface'].str.replace('m² square meters', '')\n",
    "df1['Terrace surface'] = df1['Terrace surface'].str.replace('m² square meters', '')\n",
    "#df1['Monthly rental price'] = df1['Monthly rental price'].str.replace([1], '')\n",
    "#df1['Living area'] = df1['Living area'].str.replace('m² square meter', '')\n",
    "#df1['Surface of the plot'] = df1['Surface of the plot'].str.replace('m² square meter', '')\n",
    "#df1['Garden surface'] = df1['Garden surface'].str.replace('m² square meter', '')\n",
    "#df1['Terrace surface'] = df1['Terrace surface'].str.replace('m² square meter', '')\n",
    "df1['Furnished'] = df1['Furnished'].astype('bool')\n",
    "df1['Swimming pool'] = df1['Swimming pool'].astype('bool')\n",
    "df1['Terrace'] = df1['Terrace'].astype('bool')\n",
    "\n",
    "df1.head()\n"
   ]
  }
 ],
 "metadata": {
  "kernelspec": {
   "display_name": "Python 3",
   "language": "python",
   "name": "python3"
  },
  "language_info": {
   "codemirror_mode": {
    "name": "ipython",
    "version": 3
   },
   "file_extension": ".py",
   "mimetype": "text/x-python",
   "name": "python",
   "nbconvert_exporter": "python",
   "pygments_lexer": "ipython3",
   "version": "3.10.2 (tags/v3.10.2:a58ebcc, Jan 17 2022, 14:12:15) [MSC v.1929 64 bit (AMD64)]"
  },
  "orig_nbformat": 4,
  "vscode": {
   "interpreter": {
    "hash": "308159fa9b6c6619a1f26cdc1093eb362191d23a9b1739232d13ec31d5a998e0"
   }
  }
 },
 "nbformat": 4,
 "nbformat_minor": 2
}
